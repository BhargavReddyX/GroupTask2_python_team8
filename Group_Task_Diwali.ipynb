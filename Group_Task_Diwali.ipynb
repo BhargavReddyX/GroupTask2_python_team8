{
 "cells": [
  {
   "cell_type": "markdown",
   "id": "14c0e01a",
   "metadata": {},
   "source": [
    "# If the Sentence Is Pangram\n"
   ]
  },
  {
   "cell_type": "code",
   "execution_count": 7,
   "id": "c9aa1e6e",
   "metadata": {},
   "outputs": [
    {
     "name": "stdout",
     "output_type": "stream",
     "text": [
      "It's a pangram!\n"
     ]
    }
   ],
   "source": [
    "import string\n",
    "\n",
    "def is_pangram(sentence):\n",
    "    # Create a set of lowercase alphabet letters\n",
    "    alphabet = set(string.ascii_lowercase)\n",
    "    \n",
    "    # Convert the sentence to lowercase and remove spaces and punctuation\n",
    "    sentence = sentence.lower()\n",
    "    sentence = ''.join(filter(str.isalpha, sentence))\n",
    "    \n",
    "    # Check if the set of letters in the sentence matches the alphabet set\n",
    "    return set(sentence) == alphabet\n",
    "\n",
    "\n",
    "sentence = \"The quick brown fox jumps over the lazy dog.\"\n",
    "if is_pangram(sentence):\n",
    "    print(\"It's a pangram!\")\n",
    "else:\n",
    "    print(\"It's not a pangram.\")"
   ]
  },
  {
   "cell_type": "code",
   "execution_count": 2,
   "id": "4222b39c",
   "metadata": {},
   "outputs": [
    {
     "name": "stdout",
     "output_type": "stream",
     "text": [
      "It's not a pangram.\n"
     ]
    }
   ],
   "source": [
    "import string\n",
    "\n",
    "def is_pangram(sentence):\n",
    "    # Create a set of lowercase alphabet letters\n",
    "    alphabet = set(string.ascii_lowercase)\n",
    "    \n",
    "    # Convert the sentence to lowercase and remove spaces and punctuation\n",
    "    sentence = sentence.lower()\n",
    "    sentence = ''.join(filter(str.isalpha, sentence))\n",
    "    \n",
    "    # Check if the set of letters in the sentence matches the alphabet set\n",
    "    return set(sentence) == alphabet\n",
    "\n",
    "\n",
    "sentence = \"Virat Kohli is the goat\"\n",
    "if is_pangram(sentence):\n",
    "    print(\"It's a pangram!\")\n",
    "else:\n",
    "    print(\"It's not a pangram.\")"
   ]
  },
  {
   "cell_type": "markdown",
   "id": "826ad2ea",
   "metadata": {},
   "source": [
    "#### Description\n",
    "\n",
    "This Python code checks if a given sentence is a pangram, which is a sentence containing all the letters of the English alphabet at least once. Here's a brief description of the code:\n",
    "\n",
    "It imports the string module to access lowercase alphabet letters.\n",
    "\n",
    "The is_pangram function is defined to determine pangram status.\n",
    "\n",
    "An alphabet set is created using string.ascii_lowercase.\n",
    "\n",
    "The input sentence is converted to lowercase and stripped of spaces and punctuation.\n",
    "\n",
    "The code checks if the set of letters in the sentence matches the alphabet set to determine if it's a pangram or not.\n",
    "\n",
    "It provides an example sentence and prints whether it's a pangram or not based on the check.\n"
   ]
  },
  {
   "cell_type": "markdown",
   "id": "9c08d3c5",
   "metadata": {},
   "source": [
    "# Sorting the sentence"
   ]
  },
  {
   "cell_type": "code",
   "execution_count": 5,
   "id": "100fae3b",
   "metadata": {},
   "outputs": [
    {
     "name": "stdout",
     "output_type": "stream",
     "text": [
      "This a for is sample sentence sorting words.\n"
     ]
    }
   ],
   "source": [
    "def sort_sentence(sentence):\n",
    "    # Split the sentence into words\n",
    "    words = sentence.split()\n",
    "\n",
    "    # Sort the words alphabetically\n",
    "    sorted_words = sorted(words)\n",
    "\n",
    "    # Join the sorted words back into a sentence\n",
    "    sorted_sentence = ' '.join(sorted_words)\n",
    "\n",
    "    return sorted_sentence\n",
    "\n",
    "\n",
    "sentence = \"This is a sample sentence for sorting words.\"\n",
    "sorted_sentence = sort_sentence(sentence)\n",
    "print(sorted_sentence)\n",
    "\n"
   ]
  },
  {
   "cell_type": "code",
   "execution_count": 6,
   "id": "cfc5322e",
   "metadata": {},
   "outputs": [
    {
     "name": "stdout",
     "output_type": "stream",
     "text": [
      "Goat King Kohli Virat\n"
     ]
    }
   ],
   "source": [
    "def sort_sentence(sentence):\n",
    "    # Split the sentence into words\n",
    "    words = sentence.split()\n",
    "\n",
    "    # Sort the words alphabetically\n",
    "    sorted_words = sorted(words)\n",
    "\n",
    "    # Join the sorted words back into a sentence\n",
    "    sorted_sentence = ' '.join(sorted_words)\n",
    "\n",
    "    return sorted_sentence\n",
    "\n",
    "sentence = \"Virat King Kohli Goat\"\n",
    "sorted_sentence = sort_sentence(sentence)\n",
    "print(sorted_sentence)\n"
   ]
  },
  {
   "cell_type": "markdown",
   "id": "3309c0bf",
   "metadata": {},
   "source": [
    "#### Description\n",
    "\n",
    "This Python code sorts the words in a sentence in alphabetical order. Here's a brief description of the code:\n",
    "\n",
    "The sort_sentence function takes a sentence as input.\n",
    "\n",
    "It splits the input sentence into individual words, creating a list of words.\n",
    "\n",
    "The code sorts the words in alphabetical order using the sorted() function.\n",
    "\n",
    "It then rejoins the sorted words to form a sentence, using spaces as separators.\n",
    "\n",
    "The result is a sentence with words sorted in alphabetical order.\n",
    "\n"
   ]
  },
  {
   "cell_type": "markdown",
   "id": "90d3b2e5",
   "metadata": {},
   "source": [
    "#  Build Array from Permutation\n"
   ]
  },
  {
   "cell_type": "code",
   "execution_count": 8,
   "id": "89ebe839",
   "metadata": {},
   "outputs": [
    {
     "name": "stdout",
     "output_type": "stream",
     "text": [
      "[3, 0, 2, 1]\n"
     ]
    }
   ],
   "source": [
    "def build_array(nums):\n",
    "    n = len(nums)\n",
    "    result = [0] * n\n",
    "\n",
    "    for i in range(n):\n",
    "        result[i] = nums[nums[i]]\n",
    "\n",
    "    return result\n",
    "\n",
    "\n",
    "permutation = [1, 3, 2, 0]\n",
    "resulting_array = build_array(permutation)\n",
    "print(resulting_array)\n"
   ]
  },
  {
   "cell_type": "code",
   "execution_count": 11,
   "id": "9c96fb10",
   "metadata": {},
   "outputs": [
    {
     "name": "stdout",
     "output_type": "stream",
     "text": [
      "[1, 0, 3, 2]\n"
     ]
    }
   ],
   "source": [
    "def build_array(nums):\n",
    "    n = len(nums)\n",
    "    result = [0] * n\n",
    "\n",
    "    for i in range(n):\n",
    "        result[i] = nums[nums[i]]\n",
    "\n",
    "    return result\n",
    "\n",
    "\n",
    "permutation = [2, 3, 1, 0]\n",
    "resulting_array = build_array(permutation)\n",
    "print(resulting_array)\n"
   ]
  },
  {
   "cell_type": "markdown",
   "id": "08f70e60",
   "metadata": {},
   "source": [
    "#### Description\n",
    "\n",
    "This Python code converts a permutation into an array based on the provided permutation list. Here's a brief description of the code:\n",
    "\n",
    "The build_array function takes a list called nums as input, which represents a permutation.\n",
    "\n",
    "It calculates the length of the input list.\n",
    "\n",
    "The code initializes a result list with the same length as the input list, filled with zeros.\n",
    "\n",
    "It iterates through the indices of the result list and assigns the value at nums[i] to result[i], effectively building the array from the given permutation.\n",
    "\n",
    "The resulting array is then returned.\n",
    "\n",
    "An example usage is provided to demonstrate the conversion of a permutation into an array."
   ]
  },
  {
   "cell_type": "markdown",
   "id": "2d25fe77",
   "metadata": {},
   "source": [
    "# j\n"
   ]
  },
  {
   "cell_type": "code",
   "execution_count": 13,
   "id": "b7f89c9d",
   "metadata": {},
   "outputs": [
    {
     "name": "stdout",
     "output_type": "stream",
     "text": [
      "13/11/2023\n"
     ]
    }
   ],
   "source": [
    "from datetime import datetime\n",
    "\n",
    "def convert_date_format(date_str, current_format, target_format):\n",
    "    try:\n",
    "        # Parse the input date using the current format\n",
    "        date_obj = datetime.strptime(date_str, current_format)\n",
    "\n",
    "        # Convert the date object to the target format\n",
    "        converted_date = date_obj.strftime(target_format)\n",
    "\n",
    "        return converted_date\n",
    "\n",
    "    except ValueError:\n",
    "        return \"Invalid date format\"\n",
    "\n",
    "\n",
    "date_str = \"2023-11-13\"\n",
    "current_format = \"%Y-%m-%d\"\n",
    "target_format = \"%d/%m/%Y\"\n",
    "converted_date = convert_date_format(date_str, current_format, target_format)\n",
    "print(converted_date)\n"
   ]
  },
  {
   "cell_type": "code",
   "execution_count": 14,
   "id": "1b14bedf",
   "metadata": {},
   "outputs": [
    {
     "name": "stdout",
     "output_type": "stream",
     "text": [
      "Invalid date format\n"
     ]
    }
   ],
   "source": [
    "from datetime import datetime\n",
    "\n",
    "def convert_date_format(date_str, current_format, target_format):\n",
    "    try:\n",
    "        # Parse the input date using the current format\n",
    "        date_obj = datetime.strptime(date_str, current_format)\n",
    "\n",
    "        # Convert the date object to the target format\n",
    "        converted_date = date_obj.strftime(target_format)\n",
    "\n",
    "        return converted_date\n",
    "\n",
    "    except ValueError:\n",
    "        return \"Invalid date format\"\n",
    "\n",
    "\n",
    "date_str = \"20-1-13\"\n",
    "current_format = \"%Y-%m-%d\"\n",
    "target_format = \"%d/%m/%Y\"\n",
    "converted_date = convert_date_format(date_str, current_format, target_format)\n",
    "print(converted_date)\n"
   ]
  },
  {
   "cell_type": "code",
   "execution_count": null,
   "id": "f9bc2d84",
   "metadata": {},
   "outputs": [],
   "source": []
  }
 ],
 "metadata": {
  "kernelspec": {
   "display_name": "Python 3 (ipykernel)",
   "language": "python",
   "name": "python3"
  },
  "language_info": {
   "codemirror_mode": {
    "name": "ipython",
    "version": 3
   },
   "file_extension": ".py",
   "mimetype": "text/x-python",
   "name": "python",
   "nbconvert_exporter": "python",
   "pygments_lexer": "ipython3",
   "version": "3.11.5"
  }
 },
 "nbformat": 4,
 "nbformat_minor": 5
}
